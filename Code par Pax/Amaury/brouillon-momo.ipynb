{
 "cells": [
  {
   "cell_type": "code",
   "execution_count": 1,
   "metadata": {},
   "outputs": [],
   "source": [
    "import os\n",
    "import pandas as pd\n",
    "import matplotlib.pyplot as plt\n",
    "import numpy as np\n",
    "import seaborn as sns\n",
    "import umap\n",
    "from sklearn.preprocessing import PowerTransformer\n",
    "from tqdm.notebook import tqdm, trange\n",
    "from sklearn.metrics import davies_bouldin_score\n",
    "from sklearn.cluster import KMeans\n",
    "from sklearn.cluster import DBSCAN\n",
    "from prince import FAMD, PCA\n",
    "from sklearn.preprocessing import StandardScaler\n",
    "from kmodes.kprototypes import KPrototypes\n",
    "# import plotly.graph_objects as go\n",
    "import warnings\n",
    "warnings.filterwarnings(\"ignore\")\n",
    "\n",
    "\n",
    "#Our own librabries\n",
    "import sys\n",
    "sys.path.insert(1, '../../Environnement/')\n",
    "from utils import clean_data, add_Loss\n",
    "import clean\n",
    "import merge"
   ]
  },
  {
   "cell_type": "code",
   "execution_count": 5,
   "metadata": {},
   "outputs": [],
   "source": [
    "#Select the dataset of one season of one year\n",
    "YEAR = 2019\n",
    "SEASON = \"Rabi\" # or \"Kharif\" \n",
    "\n",
    "#Path to the dataset\n",
    "pathData_R = f\"..\\..\\Data\\RawDataUnified\\RawData_{YEAR}_Rabi\"\n",
    "pathData_K= f\"..\\..\\Data\\RawDataUnified\\RawData_{YEAR}_Kharif\"\n",
    "\n",
    "\n",
    "\n",
    "df_R = pd.read_csv(pathData_R)\n",
    "df_K=pd.read_csv(pathData_K)"
   ]
  },
  {
   "cell_type": "code",
   "execution_count": 4,
   "metadata": {},
   "outputs": [
    {
     "data": {
      "text/html": [
       "<div>\n",
       "<style scoped>\n",
       "    .dataframe tbody tr th:only-of-type {\n",
       "        vertical-align: middle;\n",
       "    }\n",
       "\n",
       "    .dataframe tbody tr th {\n",
       "        vertical-align: top;\n",
       "    }\n",
       "\n",
       "    .dataframe thead th {\n",
       "        text-align: right;\n",
       "    }\n",
       "</style>\n",
       "<table border=\"1\" class=\"dataframe\">\n",
       "  <thead>\n",
       "    <tr style=\"text-align: right;\">\n",
       "      <th></th>\n",
       "      <th>Crop</th>\n",
       "      <th>Area Sown (Ha)</th>\n",
       "      <th>Area Insured (Ha)</th>\n",
       "      <th>SI Per Ha (Inr/Ha)</th>\n",
       "      <th>Lp_2011</th>\n",
       "      <th>Lp_2012</th>\n",
       "      <th>Lp_2013</th>\n",
       "      <th>Lp_2014</th>\n",
       "      <th>Lp_2015</th>\n",
       "      <th>Lp_2016</th>\n",
       "      <th>Lp_2017</th>\n",
       "      <th>Loss</th>\n",
       "    </tr>\n",
       "    <tr>\n",
       "      <th>key</th>\n",
       "      <th></th>\n",
       "      <th></th>\n",
       "      <th></th>\n",
       "      <th></th>\n",
       "      <th></th>\n",
       "      <th></th>\n",
       "      <th></th>\n",
       "      <th></th>\n",
       "      <th></th>\n",
       "      <th></th>\n",
       "      <th></th>\n",
       "      <th></th>\n",
       "    </tr>\n",
       "  </thead>\n",
       "  <tbody>\n",
       "    <tr>\n",
       "      <th>andhra pradesh_anantapur_vidapanakal___</th>\n",
       "      <td>Bengal Gram (Chana)</td>\n",
       "      <td>179.859471</td>\n",
       "      <td>160.816527</td>\n",
       "      <td>30000.0</td>\n",
       "      <td>0.014822</td>\n",
       "      <td>0.0</td>\n",
       "      <td>0.0</td>\n",
       "      <td>0.000000</td>\n",
       "      <td>0.882341</td>\n",
       "      <td>0.645266</td>\n",
       "      <td>0.000000</td>\n",
       "      <td>1.078638e+05</td>\n",
       "    </tr>\n",
       "    <tr>\n",
       "      <th>andhra pradesh_anantapur_vajrakarur___</th>\n",
       "      <td>Bengal Gram (Chana)</td>\n",
       "      <td>179.859471</td>\n",
       "      <td>160.816527</td>\n",
       "      <td>30000.0</td>\n",
       "      <td>0.000000</td>\n",
       "      <td>0.0</td>\n",
       "      <td>0.0</td>\n",
       "      <td>0.000000</td>\n",
       "      <td>0.217446</td>\n",
       "      <td>0.000000</td>\n",
       "      <td>0.347871</td>\n",
       "      <td>0.000000e+00</td>\n",
       "    </tr>\n",
       "    <tr>\n",
       "      <th>andhra pradesh_anantapur_gooty___</th>\n",
       "      <td>Bengal Gram (Chana)</td>\n",
       "      <td>179.859471</td>\n",
       "      <td>160.816527</td>\n",
       "      <td>30000.0</td>\n",
       "      <td>0.330642</td>\n",
       "      <td>0.0</td>\n",
       "      <td>0.0</td>\n",
       "      <td>0.086273</td>\n",
       "      <td>0.000000</td>\n",
       "      <td>0.496653</td>\n",
       "      <td>0.122131</td>\n",
       "      <td>1.516659e+06</td>\n",
       "    </tr>\n",
       "    <tr>\n",
       "      <th>andhra pradesh_anantapur_guntakal___</th>\n",
       "      <td>Bengal Gram (Chana)</td>\n",
       "      <td>179.859471</td>\n",
       "      <td>160.816527</td>\n",
       "      <td>30000.0</td>\n",
       "      <td>0.330642</td>\n",
       "      <td>0.0</td>\n",
       "      <td>0.0</td>\n",
       "      <td>0.086273</td>\n",
       "      <td>0.000000</td>\n",
       "      <td>0.496653</td>\n",
       "      <td>0.122131</td>\n",
       "      <td>1.516659e+06</td>\n",
       "    </tr>\n",
       "    <tr>\n",
       "      <th>andhra pradesh_anantapur_pamidi___</th>\n",
       "      <td>Bengal Gram (Chana)</td>\n",
       "      <td>179.859471</td>\n",
       "      <td>160.816527</td>\n",
       "      <td>30000.0</td>\n",
       "      <td>0.330642</td>\n",
       "      <td>0.0</td>\n",
       "      <td>0.0</td>\n",
       "      <td>0.086273</td>\n",
       "      <td>0.000000</td>\n",
       "      <td>0.496653</td>\n",
       "      <td>0.122131</td>\n",
       "      <td>1.516659e+06</td>\n",
       "    </tr>\n",
       "  </tbody>\n",
       "</table>\n",
       "</div>"
      ],
      "text/plain": [
       "                                                        Crop  Area Sown (Ha)  \\\n",
       "key                                                                            \n",
       "andhra pradesh_anantapur_vidapanakal___  Bengal Gram (Chana)      179.859471   \n",
       "andhra pradesh_anantapur_vajrakarur___   Bengal Gram (Chana)      179.859471   \n",
       "andhra pradesh_anantapur_gooty___        Bengal Gram (Chana)      179.859471   \n",
       "andhra pradesh_anantapur_guntakal___     Bengal Gram (Chana)      179.859471   \n",
       "andhra pradesh_anantapur_pamidi___       Bengal Gram (Chana)      179.859471   \n",
       "\n",
       "                                         Area Insured (Ha)  \\\n",
       "key                                                          \n",
       "andhra pradesh_anantapur_vidapanakal___         160.816527   \n",
       "andhra pradesh_anantapur_vajrakarur___          160.816527   \n",
       "andhra pradesh_anantapur_gooty___               160.816527   \n",
       "andhra pradesh_anantapur_guntakal___            160.816527   \n",
       "andhra pradesh_anantapur_pamidi___              160.816527   \n",
       "\n",
       "                                         SI Per Ha (Inr/Ha)   Lp_2011  \\\n",
       "key                                                                     \n",
       "andhra pradesh_anantapur_vidapanakal___             30000.0  0.014822   \n",
       "andhra pradesh_anantapur_vajrakarur___              30000.0  0.000000   \n",
       "andhra pradesh_anantapur_gooty___                   30000.0  0.330642   \n",
       "andhra pradesh_anantapur_guntakal___                30000.0  0.330642   \n",
       "andhra pradesh_anantapur_pamidi___                  30000.0  0.330642   \n",
       "\n",
       "                                         Lp_2012  Lp_2013   Lp_2014   Lp_2015  \\\n",
       "key                                                                             \n",
       "andhra pradesh_anantapur_vidapanakal___      0.0      0.0  0.000000  0.882341   \n",
       "andhra pradesh_anantapur_vajrakarur___       0.0      0.0  0.000000  0.217446   \n",
       "andhra pradesh_anantapur_gooty___            0.0      0.0  0.086273  0.000000   \n",
       "andhra pradesh_anantapur_guntakal___         0.0      0.0  0.086273  0.000000   \n",
       "andhra pradesh_anantapur_pamidi___           0.0      0.0  0.086273  0.000000   \n",
       "\n",
       "                                          Lp_2016   Lp_2017          Loss  \n",
       "key                                                                        \n",
       "andhra pradesh_anantapur_vidapanakal___  0.645266  0.000000  1.078638e+05  \n",
       "andhra pradesh_anantapur_vajrakarur___   0.000000  0.347871  0.000000e+00  \n",
       "andhra pradesh_anantapur_gooty___        0.496653  0.122131  1.516659e+06  \n",
       "andhra pradesh_anantapur_guntakal___     0.496653  0.122131  1.516659e+06  \n",
       "andhra pradesh_anantapur_pamidi___       0.496653  0.122131  1.516659e+06  "
      ]
     },
     "execution_count": 4,
     "metadata": {},
     "output_type": "execute_result"
    }
   ],
   "source": [
    "#Clean an add loss to data\n",
    "df_R=add_Loss(clean_data(df_R))\n",
    "df_K=add_Loss(clean_data(df_K))\n",
    "\n",
    "df_R.head()"
   ]
  },
  {
   "cell_type": "code",
   "execution_count": 10,
   "metadata": {},
   "outputs": [
    {
     "name": "stdout",
     "output_type": "stream",
     "text": [
      "['Andhra Pradesh' 'Chhattisgarh' 'Gujarat' 'Haryana' 'Karnataka'\n",
      " 'Madhya Pradesh' 'Maharashtra' 'Odisha' 'Rajasthan' 'Tamil Nadu'\n",
      " 'Telangana' 'Uttar Pradesh' 'West Bengal']\n",
      "['Andhra Pradesh' 'Chhattisgarh' 'Gujarat' 'Haryana' 'Jharkhand'\n",
      " 'Karnataka' 'Madhya Pradesh' 'Maharashtra' 'Odisha' 'Rajasthan'\n",
      " 'Telangana' 'Uttar Pradesh' 'Uttarakhand' 'West Bengal']\n",
      "\n",
      "{'Tamil Nadu'}\n"
     ]
    }
   ],
   "source": [
    "print(df_R['State'].unique())\n",
    "print(df_K['State'].unique())\n",
    "print()\n",
    "print(set(df_R['State'].unique())-set(df_K['State'].unique()))"
   ]
  },
  {
   "cell_type": "code",
   "execution_count": 32,
   "metadata": {},
   "outputs": [
    {
     "name": "stdout",
     "output_type": "stream",
     "text": [
      "16\n",
      "13\n",
      "14\n",
      "{'assam', 'uttarakhand', 'jharkhand'}\n",
      "{'assam', 'tamil nadu'}\n"
     ]
    }
   ],
   "source": [
    "all_states = ['andhra pradesh','chhattisgarh','gujarat','haryana','jharkhand','karnataka','madhya pradesh','maharashtra',\n",
    "              'odisha','rajasthan','telangana','uttar pradesh','uttarakhand','west bengal','tamil nadu','assam']\n",
    "print(len(all_states))\n",
    "\n",
    "f = lambda stri : stri.lower()\n",
    "states_R = list(map(f, df_R['State'].unique()))\n",
    "print(len(states_R))\n",
    "states_K = list(map(f,df_K['State'].unique()))\n",
    "print(len(states_K))\n",
    "\n",
    "print(set(all_states)- set(states_R))\n",
    "print(set(all_states)- set(states_K))"
   ]
  },
  {
   "cell_type": "code",
   "execution_count": 55,
   "metadata": {},
   "outputs": [
    {
     "data": {
      "text/plain": [
       "array(['Andhra Pradesh', 'Bihar', 'Chhattisgarh', 'Gujarat', 'Haryana',\n",
       "       'Jharkhand', 'Karnataka', 'Madhya Pradesh', 'Maharashtra',\n",
       "       'Odisha', 'Rajasthan', 'Telangana', 'Uttar Pradesh', 'West Bengal'],\n",
       "      dtype=object)"
      ]
     },
     "execution_count": 55,
     "metadata": {},
     "output_type": "execute_result"
    }
   ],
   "source": [
    "YEAR = 2018\n",
    "\n",
    "pathData_R = f\"..\\..\\Data\\RawDataUnified\\RawData_{YEAR}_Rabi\"\n",
    "pathData_K= f\"..\\..\\Data\\RawDataUnified\\RawData_{YEAR}_Kharif\"\n",
    "\n",
    "\n",
    "states_compl_R = ['Assam', 'Uttarakhand', 'Jharkhand']\n",
    "df_compl_R = pd.read_csv(pathData_R)\n",
    "\n",
    "\n",
    "states_compl_K = ['Assam', 'Tamil Nadu']\n",
    "df_compl_K = pd.read_csv(pathData_K)\n",
    "df_compl_K['State'].unique()"
   ]
  },
  {
   "cell_type": "code",
   "execution_count": 51,
   "metadata": {},
   "outputs": [],
   "source": [
    "df_compl_R = df_compl_R[df_compl_R.State.isin(states_compl_R)]"
   ]
  },
  {
   "cell_type": "code",
   "execution_count": 52,
   "metadata": {},
   "outputs": [
    {
     "data": {
      "text/plain": [
       "array(['Jharkhand'], dtype=object)"
      ]
     },
     "execution_count": 52,
     "metadata": {},
     "output_type": "execute_result"
    }
   ],
   "source": [
    "df_compl_R['State'].unique()"
   ]
  },
  {
   "cell_type": "code",
   "execution_count": null,
   "metadata": {},
   "outputs": [],
   "source": []
  }
 ],
 "metadata": {
  "interpreter": {
   "hash": "f94b0f923d809dd527c206b27763890920f0cc4925d65b37d9350672bbce7ed6"
  },
  "kernelspec": {
   "display_name": "Python 3.8.12 ('base')",
   "language": "python",
   "name": "python3"
  },
  "language_info": {
   "codemirror_mode": {
    "name": "ipython",
    "version": 3
   },
   "file_extension": ".py",
   "mimetype": "text/x-python",
   "name": "python",
   "nbconvert_exporter": "python",
   "pygments_lexer": "ipython3",
   "version": "3.8.12"
  },
  "orig_nbformat": 4
 },
 "nbformat": 4,
 "nbformat_minor": 2
}
