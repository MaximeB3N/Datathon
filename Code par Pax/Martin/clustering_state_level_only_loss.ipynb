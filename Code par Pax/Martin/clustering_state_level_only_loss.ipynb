{
 "cells": [
  {
   "cell_type": "markdown",
   "metadata": {},
   "source": [
    "# Clustering des états\n",
    "\n",
    "Utilisation des vecteurs de pertes de production et du \n",
    "Critère de DB pour les états\n"
   ]
  },
  {
   "cell_type": "markdown",
   "metadata": {},
   "source": [
    "## Imports, extractions et nettoyage des données"
   ]
  },
  {
   "cell_type": "code",
   "execution_count": 1,
   "metadata": {},
   "outputs": [],
   "source": [
    "import os\n",
    "import pandas as pd\n",
    "import matplotlib.pyplot as plt\n",
    "import numpy as np\n",
    "import seaborn as sns\n",
    "from sklearn.preprocessing import PowerTransformer\n",
    "from tqdm.notebook import tqdm, trange\n",
    "from sklearn.metrics import davies_bouldin_score\n",
    "from sklearn.cluster import KMeans\n",
    "from sklearn.cluster import DBSCAN\n",
    "from sklearn.preprocessing import StandardScaler,normalize\n",
    "from kmodes.kprototypes import KPrototypes\n",
    "# import plotly.graph_objects as go\n",
    "import warnings\n",
    "warnings.filterwarnings(\"ignore\")\n",
    "\n",
    "\n",
    "#Our own librabries\n",
    "import sys\n",
    "sys.path.insert(1, '../../Environnement/')\n",
    "from utils import clean_data_state, add_Loss, regroupe_crop, add_climate_clusters,add_crop_categories\n",
    "import clean\n",
    "import merge"
   ]
  },
  {
   "cell_type": "code",
   "execution_count": 2,
   "metadata": {},
   "outputs": [],
   "source": [
    "#Select the dataset of one season of one year\n",
    "YEAR = 2019\n",
    "SEASON = \"Rabi\" # or \"Kharif\" \n",
    "\n",
    "#Path to the dataset\n",
    "pathData_R = f\"..\\..\\Data\\RawDataUnified\\RawData_{YEAR}_Rabi\"\n",
    "pathData_K= f\"..\\..\\Data\\RawDataUnified\\RawData_{YEAR}_Kharif\"\n",
    "\n",
    "\n",
    "df_R = pd.read_csv(pathData_R)\n",
    "df_K=pd.read_csv(pathData_K)"
   ]
  },
  {
   "cell_type": "code",
   "execution_count": 3,
   "metadata": {},
   "outputs": [
    {
     "data": {
      "text/html": [
       "<div>\n",
       "<style scoped>\n",
       "    .dataframe tbody tr th:only-of-type {\n",
       "        vertical-align: middle;\n",
       "    }\n",
       "\n",
       "    .dataframe tbody tr th {\n",
       "        vertical-align: top;\n",
       "    }\n",
       "\n",
       "    .dataframe thead th {\n",
       "        text-align: right;\n",
       "    }\n",
       "</style>\n",
       "<table border=\"1\" class=\"dataframe\">\n",
       "  <thead>\n",
       "    <tr style=\"text-align: right;\">\n",
       "      <th></th>\n",
       "      <th>State</th>\n",
       "      <th>Area Sown (Ha)</th>\n",
       "      <th>Area Insured (Ha)</th>\n",
       "      <th>SI Per Ha (Inr/Ha)</th>\n",
       "      <th>crop_categories</th>\n",
       "      <th>Lp_2011</th>\n",
       "      <th>Lp_2012</th>\n",
       "      <th>Lp_2013</th>\n",
       "      <th>Lp_2014</th>\n",
       "      <th>Lp_2015</th>\n",
       "      <th>Lp_2016</th>\n",
       "      <th>Lp_2017</th>\n",
       "      <th>Loss</th>\n",
       "      <th>climate_clusters</th>\n",
       "    </tr>\n",
       "    <tr>\n",
       "      <th>key</th>\n",
       "      <th></th>\n",
       "      <th></th>\n",
       "      <th></th>\n",
       "      <th></th>\n",
       "      <th></th>\n",
       "      <th></th>\n",
       "      <th></th>\n",
       "      <th></th>\n",
       "      <th></th>\n",
       "      <th></th>\n",
       "      <th></th>\n",
       "      <th></th>\n",
       "      <th></th>\n",
       "      <th></th>\n",
       "    </tr>\n",
       "  </thead>\n",
       "  <tbody>\n",
       "    <tr>\n",
       "      <th>andhra pradesh_anantapur_vidapanakal___</th>\n",
       "      <td>Andhra Pradesh</td>\n",
       "      <td>179.859471</td>\n",
       "      <td>160.816527</td>\n",
       "      <td>30000.0</td>\n",
       "      <td>Legumineuses</td>\n",
       "      <td>0.014822</td>\n",
       "      <td>0.0</td>\n",
       "      <td>0.0</td>\n",
       "      <td>0.000000</td>\n",
       "      <td>0.882341</td>\n",
       "      <td>0.645266</td>\n",
       "      <td>0.000000</td>\n",
       "      <td>1.078638e+05</td>\n",
       "      <td>2</td>\n",
       "    </tr>\n",
       "    <tr>\n",
       "      <th>andhra pradesh_anantapur_vajrakarur___</th>\n",
       "      <td>Andhra Pradesh</td>\n",
       "      <td>179.859471</td>\n",
       "      <td>160.816527</td>\n",
       "      <td>30000.0</td>\n",
       "      <td>Legumineuses</td>\n",
       "      <td>0.000000</td>\n",
       "      <td>0.0</td>\n",
       "      <td>0.0</td>\n",
       "      <td>0.000000</td>\n",
       "      <td>0.217446</td>\n",
       "      <td>0.000000</td>\n",
       "      <td>0.347871</td>\n",
       "      <td>0.000000e+00</td>\n",
       "      <td>2</td>\n",
       "    </tr>\n",
       "    <tr>\n",
       "      <th>andhra pradesh_anantapur_gooty___</th>\n",
       "      <td>Andhra Pradesh</td>\n",
       "      <td>179.859471</td>\n",
       "      <td>160.816527</td>\n",
       "      <td>30000.0</td>\n",
       "      <td>Legumineuses</td>\n",
       "      <td>0.330642</td>\n",
       "      <td>0.0</td>\n",
       "      <td>0.0</td>\n",
       "      <td>0.086273</td>\n",
       "      <td>0.000000</td>\n",
       "      <td>0.496653</td>\n",
       "      <td>0.122131</td>\n",
       "      <td>1.516659e+06</td>\n",
       "      <td>2</td>\n",
       "    </tr>\n",
       "    <tr>\n",
       "      <th>andhra pradesh_anantapur_guntakal___</th>\n",
       "      <td>Andhra Pradesh</td>\n",
       "      <td>179.859471</td>\n",
       "      <td>160.816527</td>\n",
       "      <td>30000.0</td>\n",
       "      <td>Legumineuses</td>\n",
       "      <td>0.330642</td>\n",
       "      <td>0.0</td>\n",
       "      <td>0.0</td>\n",
       "      <td>0.086273</td>\n",
       "      <td>0.000000</td>\n",
       "      <td>0.496653</td>\n",
       "      <td>0.122131</td>\n",
       "      <td>1.516659e+06</td>\n",
       "      <td>2</td>\n",
       "    </tr>\n",
       "    <tr>\n",
       "      <th>andhra pradesh_anantapur_pamidi___</th>\n",
       "      <td>Andhra Pradesh</td>\n",
       "      <td>179.859471</td>\n",
       "      <td>160.816527</td>\n",
       "      <td>30000.0</td>\n",
       "      <td>Legumineuses</td>\n",
       "      <td>0.330642</td>\n",
       "      <td>0.0</td>\n",
       "      <td>0.0</td>\n",
       "      <td>0.086273</td>\n",
       "      <td>0.000000</td>\n",
       "      <td>0.496653</td>\n",
       "      <td>0.122131</td>\n",
       "      <td>1.516659e+06</td>\n",
       "      <td>2</td>\n",
       "    </tr>\n",
       "  </tbody>\n",
       "</table>\n",
       "</div>"
      ],
      "text/plain": [
       "                                                  State  Area Sown (Ha)  \\\n",
       "key                                                                       \n",
       "andhra pradesh_anantapur_vidapanakal___  Andhra Pradesh      179.859471   \n",
       "andhra pradesh_anantapur_vajrakarur___   Andhra Pradesh      179.859471   \n",
       "andhra pradesh_anantapur_gooty___        Andhra Pradesh      179.859471   \n",
       "andhra pradesh_anantapur_guntakal___     Andhra Pradesh      179.859471   \n",
       "andhra pradesh_anantapur_pamidi___       Andhra Pradesh      179.859471   \n",
       "\n",
       "                                         Area Insured (Ha)  \\\n",
       "key                                                          \n",
       "andhra pradesh_anantapur_vidapanakal___         160.816527   \n",
       "andhra pradesh_anantapur_vajrakarur___          160.816527   \n",
       "andhra pradesh_anantapur_gooty___               160.816527   \n",
       "andhra pradesh_anantapur_guntakal___            160.816527   \n",
       "andhra pradesh_anantapur_pamidi___              160.816527   \n",
       "\n",
       "                                         SI Per Ha (Inr/Ha) crop_categories  \\\n",
       "key                                                                           \n",
       "andhra pradesh_anantapur_vidapanakal___             30000.0    Legumineuses   \n",
       "andhra pradesh_anantapur_vajrakarur___              30000.0    Legumineuses   \n",
       "andhra pradesh_anantapur_gooty___                   30000.0    Legumineuses   \n",
       "andhra pradesh_anantapur_guntakal___                30000.0    Legumineuses   \n",
       "andhra pradesh_anantapur_pamidi___                  30000.0    Legumineuses   \n",
       "\n",
       "                                          Lp_2011  Lp_2012  Lp_2013   Lp_2014  \\\n",
       "key                                                                             \n",
       "andhra pradesh_anantapur_vidapanakal___  0.014822      0.0      0.0  0.000000   \n",
       "andhra pradesh_anantapur_vajrakarur___   0.000000      0.0      0.0  0.000000   \n",
       "andhra pradesh_anantapur_gooty___        0.330642      0.0      0.0  0.086273   \n",
       "andhra pradesh_anantapur_guntakal___     0.330642      0.0      0.0  0.086273   \n",
       "andhra pradesh_anantapur_pamidi___       0.330642      0.0      0.0  0.086273   \n",
       "\n",
       "                                          Lp_2015   Lp_2016   Lp_2017  \\\n",
       "key                                                                     \n",
       "andhra pradesh_anantapur_vidapanakal___  0.882341  0.645266  0.000000   \n",
       "andhra pradesh_anantapur_vajrakarur___   0.217446  0.000000  0.347871   \n",
       "andhra pradesh_anantapur_gooty___        0.000000  0.496653  0.122131   \n",
       "andhra pradesh_anantapur_guntakal___     0.000000  0.496653  0.122131   \n",
       "andhra pradesh_anantapur_pamidi___       0.000000  0.496653  0.122131   \n",
       "\n",
       "                                                 Loss  climate_clusters  \n",
       "key                                                                      \n",
       "andhra pradesh_anantapur_vidapanakal___  1.078638e+05                 2  \n",
       "andhra pradesh_anantapur_vajrakarur___   0.000000e+00                 2  \n",
       "andhra pradesh_anantapur_gooty___        1.516659e+06                 2  \n",
       "andhra pradesh_anantapur_guntakal___     1.516659e+06                 2  \n",
       "andhra pradesh_anantapur_pamidi___       1.516659e+06                 2  "
      ]
     },
     "execution_count": 3,
     "metadata": {},
     "output_type": "execute_result"
    }
   ],
   "source": [
    "#Clean an add loss to data\n",
    "df_R=add_Loss(clean_data_state(add_crop_categories(df_R, rabi=True)))\n",
    "df_K=add_Loss(clean_data_state(add_crop_categories(df_K, rabi=False)))\n",
    "\n",
    "df_R = add_climate_clusters(df_R, rabi=True)\n",
    "df_K = add_climate_clusters(df_K, rabi=False)\n",
    "\n",
    "df_R.head()"
   ]
  },
  {
   "cell_type": "code",
   "execution_count": 7,
   "metadata": {},
   "outputs": [
    {
     "data": {
      "text/html": [
       "<div>\n",
       "<style scoped>\n",
       "    .dataframe tbody tr th:only-of-type {\n",
       "        vertical-align: middle;\n",
       "    }\n",
       "\n",
       "    .dataframe tbody tr th {\n",
       "        vertical-align: top;\n",
       "    }\n",
       "\n",
       "    .dataframe thead th {\n",
       "        text-align: right;\n",
       "    }\n",
       "</style>\n",
       "<table border=\"1\" class=\"dataframe\">\n",
       "  <thead>\n",
       "    <tr style=\"text-align: right;\">\n",
       "      <th></th>\n",
       "      <th>Lp_2011</th>\n",
       "      <th>Lp_2012</th>\n",
       "      <th>Lp_2013</th>\n",
       "      <th>Lp_2014</th>\n",
       "      <th>Lp_2015</th>\n",
       "      <th>Lp_2016</th>\n",
       "      <th>Lp_2017</th>\n",
       "      <th>State</th>\n",
       "    </tr>\n",
       "    <tr>\n",
       "      <th>key</th>\n",
       "      <th></th>\n",
       "      <th></th>\n",
       "      <th></th>\n",
       "      <th></th>\n",
       "      <th></th>\n",
       "      <th></th>\n",
       "      <th></th>\n",
       "      <th></th>\n",
       "    </tr>\n",
       "  </thead>\n",
       "  <tbody>\n",
       "    <tr>\n",
       "      <th>andhra pradesh_anantapur_vidapanakal___</th>\n",
       "      <td>0.014822</td>\n",
       "      <td>0.0</td>\n",
       "      <td>0.0</td>\n",
       "      <td>0.000000</td>\n",
       "      <td>0.882341</td>\n",
       "      <td>0.645266</td>\n",
       "      <td>0.000000</td>\n",
       "      <td>Andhra Pradesh</td>\n",
       "    </tr>\n",
       "    <tr>\n",
       "      <th>andhra pradesh_anantapur_vajrakarur___</th>\n",
       "      <td>0.000000</td>\n",
       "      <td>0.0</td>\n",
       "      <td>0.0</td>\n",
       "      <td>0.000000</td>\n",
       "      <td>0.217446</td>\n",
       "      <td>0.000000</td>\n",
       "      <td>0.347871</td>\n",
       "      <td>Andhra Pradesh</td>\n",
       "    </tr>\n",
       "    <tr>\n",
       "      <th>andhra pradesh_anantapur_gooty___</th>\n",
       "      <td>0.330642</td>\n",
       "      <td>0.0</td>\n",
       "      <td>0.0</td>\n",
       "      <td>0.086273</td>\n",
       "      <td>0.000000</td>\n",
       "      <td>0.496653</td>\n",
       "      <td>0.122131</td>\n",
       "      <td>Andhra Pradesh</td>\n",
       "    </tr>\n",
       "    <tr>\n",
       "      <th>andhra pradesh_anantapur_guntakal___</th>\n",
       "      <td>0.330642</td>\n",
       "      <td>0.0</td>\n",
       "      <td>0.0</td>\n",
       "      <td>0.086273</td>\n",
       "      <td>0.000000</td>\n",
       "      <td>0.496653</td>\n",
       "      <td>0.122131</td>\n",
       "      <td>Andhra Pradesh</td>\n",
       "    </tr>\n",
       "    <tr>\n",
       "      <th>andhra pradesh_anantapur_pamidi___</th>\n",
       "      <td>0.330642</td>\n",
       "      <td>0.0</td>\n",
       "      <td>0.0</td>\n",
       "      <td>0.086273</td>\n",
       "      <td>0.000000</td>\n",
       "      <td>0.496653</td>\n",
       "      <td>0.122131</td>\n",
       "      <td>Andhra Pradesh</td>\n",
       "    </tr>\n",
       "  </tbody>\n",
       "</table>\n",
       "</div>"
      ],
      "text/plain": [
       "                                          Lp_2011  Lp_2012  Lp_2013   Lp_2014  \\\n",
       "key                                                                             \n",
       "andhra pradesh_anantapur_vidapanakal___  0.014822      0.0      0.0  0.000000   \n",
       "andhra pradesh_anantapur_vajrakarur___   0.000000      0.0      0.0  0.000000   \n",
       "andhra pradesh_anantapur_gooty___        0.330642      0.0      0.0  0.086273   \n",
       "andhra pradesh_anantapur_guntakal___     0.330642      0.0      0.0  0.086273   \n",
       "andhra pradesh_anantapur_pamidi___       0.330642      0.0      0.0  0.086273   \n",
       "\n",
       "                                          Lp_2015   Lp_2016   Lp_2017  \\\n",
       "key                                                                     \n",
       "andhra pradesh_anantapur_vidapanakal___  0.882341  0.645266  0.000000   \n",
       "andhra pradesh_anantapur_vajrakarur___   0.217446  0.000000  0.347871   \n",
       "andhra pradesh_anantapur_gooty___        0.000000  0.496653  0.122131   \n",
       "andhra pradesh_anantapur_guntakal___     0.000000  0.496653  0.122131   \n",
       "andhra pradesh_anantapur_pamidi___       0.000000  0.496653  0.122131   \n",
       "\n",
       "                                                  State  \n",
       "key                                                      \n",
       "andhra pradesh_anantapur_vidapanakal___  Andhra Pradesh  \n",
       "andhra pradesh_anantapur_vajrakarur___   Andhra Pradesh  \n",
       "andhra pradesh_anantapur_gooty___        Andhra Pradesh  \n",
       "andhra pradesh_anantapur_guntakal___     Andhra Pradesh  \n",
       "andhra pradesh_anantapur_pamidi___       Andhra Pradesh  "
      ]
     },
     "execution_count": 7,
     "metadata": {},
     "output_type": "execute_result"
    }
   ],
   "source": [
    "#data for Davis_Bouldin criteria and for clustering : sans normalisation\n",
    "collumns_db = [f'Lp_{i}' for i in range(2011,2018)] # colonnes : que les lp\n",
    "collumns_db.append(\"State\")\n",
    "data_R_db=df_R[collumns_db]\n",
    "data_K_db=df_K[collumns_db]\n",
    "data_R_db.head()"
   ]
  },
  {
   "cell_type": "code",
   "execution_count": null,
   "metadata": {},
   "outputs": [],
   "source": [
    "liste_state_R = pd.unique(data_R_db['State'])\n",
    "liste_state_K = pd.unique(data_K_db['State'])"
   ]
  },
  {
   "cell_type": "markdown",
   "metadata": {},
   "source": [
    "## K-prototypes"
   ]
  },
  {
   "cell_type": "code",
   "execution_count": 4,
   "metadata": {},
   "outputs": [],
   "source": [
    "from kmodes.kprototypes import KPrototypes"
   ]
  },
  {
   "cell_type": "code",
   "execution_count": 1,
   "metadata": {},
   "outputs": [],
   "source": [
    "def categorical_dissimilarity(a, b, **_):\n",
    "    \"\"\"Dissimilarity function with state penalization\"\"\"\n",
    "    return (a[:,0] != b[0])*9*10**15\n",
    "\n",
    "categorical_columns = [7]\n",
    "def get_liste_state_cluster_2(clusters,donnees):\n",
    "    df2 = donnees.copy(deep = True)\n",
    "    df2[\"Cluster\"] = clusters\n",
    "    list_state = pd.unique(donnees[\"State\"])\n",
    "    liste_state_cluster = {}\n",
    "    for i in range(len(list_state)):\n",
    "        liste_state_cluster[list_state[i]] = np.bincount(df2[df2[\"State\"] == list_state[i]][\"Cluster\"].to_numpy().astype(int)).argmax()\n",
    "    return liste_state_cluster\n",
    "\n"
   ]
  },
  {
   "cell_type": "markdown",
   "metadata": {},
   "source": [
    "Rabi"
   ]
  },
  {
   "cell_type": "code",
   "execution_count": 10,
   "metadata": {},
   "outputs": [
    {
     "name": "stdout",
     "output_type": "stream",
     "text": [
      "db index for Rabi with k = 2 :  2.2231795376889405\n"
     ]
    }
   ],
   "source": [
    "score_R_proto = []\n",
    "clusters_R_proto = []\n",
    "for i in range(2,8) : \n",
    "    nb_clusters_R = i\n",
    "    #Clustering with nb_clusters_R clusters\n",
    "    kproto = KPrototypes(n_clusters= nb_clusters_R, init='Cao', n_jobs = -1,cat_dissim=categorical_dissimilarity)\n",
    "    clusters = kproto.fit_predict(data_R_db, categorical=categorical_columns)\n",
    "\n",
    "    new_df = data_R_db.copy(deep = True)\n",
    "    new_df['Label'] = clusters\n",
    "    new_df['State_Label'] = new_df.groupby(new_df['State'])['Label'].transform(lambda x: x.value_counts().idxmax())\n",
    "    #creating the labels for each state\n",
    "    #dic_cluster = get_liste_state_cluster_2(clusters,df_R)\n",
    "    #labels = [dic_cluster[x] for x in df_R[\"State\"].to_numpy()]\n",
    "\n",
    "    labels = new_df[\"State_Label\"].to_numpy()\n",
    "    clusters_R_proto.append(labels)\n",
    "    if np.size(np.unique(labels)) > 1:\n",
    "        #calculating the davies_bouldin_score\n",
    "        db_index = davies_bouldin_score(data_R_db.drop(columns=[\"State\"]), labels)\n",
    "        score_R_proto.append(db_index)\n",
    "    else:\n",
    "        db_index = 10\n",
    "        score_R_proto.append(db_index)\n",
    "    print(f\"db index for Rabi with k = {nb_clusters_R} : \", db_index)"
   ]
  },
  {
   "cell_type": "code",
   "execution_count": 9,
   "metadata": {},
   "outputs": [
    {
     "data": {
      "image/png": "[encoded data removed]",
      "text/plain": [
       "<Figure size 432x288 with 1 Axes>"
      ]
     },
     "metadata": {
      "needs_background": "light"
     },
     "output_type": "display_data"
    }
   ],
   "source": [
    "plt.plot(range(2,8),score_R_proto)\n",
    "plt.xlabel(\"Nombre de clusters\")\n",
    "plt.title(\"Rabi\")\n",
    "plt.show()"
   ]
  },
  {
   "cell_type": "code",
   "execution_count": 34,
   "metadata": {},
   "outputs": [],
   "source": [
    "cluster_R = clusters_R[4]\n",
    "for i,x in enumerate(cluster_R):\n",
    "    if(x==5):\n",
    "        cluster_R[i] = 1 \n",
    "\n",
    "cluster_R = np.array(cluster_R)"
   ]
  },
  {
   "cell_type": "markdown",
   "metadata": {},
   "source": [
    "Kharif"
   ]
  },
  {
   "cell_type": "code",
   "execution_count": 13,
   "metadata": {},
   "outputs": [
    {
     "name": "stdout",
     "output_type": "stream",
     "text": [
      "db index for Kharif with k = 2 :  10\n",
      "db index for Kharif with k = 3 :  6.808108070327905\n",
      "db index for Kharif with k = 4 :  6.808108070327905\n",
      "db index for Kharif with k = 5 :  5.046854589138932\n",
      "db index for Kharif with k = 6 :  3.4192403659957127\n",
      "db index for Kharif with k = 7 :  4.047276143339458\n"
     ]
    }
   ],
   "source": [
    "score_K_proto = []\n",
    "clusters_K_proto = []\n",
    "for i in range(2,8) : \n",
    "    nb_clusters_K = i\n",
    "    #Clustering with nb_clusters_K clusters\n",
    "    kproto = KPrototypes(n_clusters= nb_clusters_K, init='Cao', n_jobs = -1,cat_dissim=categorical_dissimilarity)\n",
    "    clusters = kproto.fit_predict(data_K_db, categorical=categorical_columns)\n",
    "\n",
    "    #creating the labels for each state\n",
    "    dic_cluster = get_liste_state_cluster_2(clusters,df_K)\n",
    "    labels = [dic_cluster[x] for x in df_K[\"State\"].to_numpy()]\n",
    "    clusters_K_proto.append(labels)\n",
    "    if np.size(np.unique(labels)) > 1:\n",
    "        #calculating the davies_bouldin_score\n",
    "        db_index = davies_bouldin_score(data_K_db.drop(columns=[\"State\"]), labels)\n",
    "        score_K_proto.append(db_index)\n",
    "    else:\n",
    "        db_index = 10\n",
    "        score_K_proto.append(db_index)\n",
    "    print(f\"db index for Kharif with k = {nb_clusters_K} : \", db_index)"
   ]
  },
  {
   "cell_type": "code",
   "execution_count": 11,
   "metadata": {},
   "outputs": [
    {
     "data": {
      "image/png": "[encoded data removed]",
      "text/plain": [
       "<Figure size 432x288 with 1 Axes>"
      ]
     },
     "metadata": {
      "needs_background": "light"
     },
     "output_type": "display_data"
    }
   ],
   "source": [
    "plt.plot(range(2,8),score_K_proto)\n",
    "plt.xlabel(\"Nombre de clusters\")\n",
    "plt.title(\"Kharif\")\n",
    "plt.show()"
   ]
  },
  {
   "cell_type": "markdown",
   "metadata": {},
   "source": [
    "## GMM"
   ]
  },
  {
   "cell_type": "markdown",
   "metadata": {},
   "source": [
    "On applique GMM sur les vecteurs lp puis on affecte à chaque état le cluster le plus probable (celui qui maximise la somme des probas)"
   ]
  },
  {
   "cell_type": "code",
   "execution_count": 12,
   "metadata": {},
   "outputs": [],
   "source": [
    "from sklearn.mixture import GaussianMixture\n",
    "df_R_db_sans_etat = data_R_db.drop(columns = [\"State\"])\n",
    "df_K_db_sans_etat = data_K_db.drop(columns = [\"State\"])"
   ]
  },
  {
   "cell_type": "code",
   "execution_count": 61,
   "metadata": {},
   "outputs": [
    {
     "name": "stdout",
     "output_type": "stream",
     "text": [
      "db index for Rabi with k = 2 :  10\n",
      "db index for Rabi with k = 3 :  10\n",
      "db index for Rabi with k = 4 :  10\n",
      "db index for Rabi with k = 5 :  10\n",
      "db index for Rabi with k = 6 :  10\n",
      "db index for Rabi with k = 7 :  10\n"
     ]
    }
   ],
   "source": [
    "n_cluster_max = 8\n",
    "score_R_GMM = []\n",
    "clusters_R_GMM = []\n",
    "n_init = 10\n",
    "\n",
    "for k in range(2,n_cluster_max) : \n",
    "    nb_clusters_R = k\n",
    "    clusters = []\n",
    "    score = 11\n",
    "    for j in range(n_init):\n",
    "        #Clustering with nb_clusters_R clusters\n",
    "        gm = GaussianMixture(n_components=nb_clusters_R,covariance_type = 'tied')\n",
    "        gm.fit(df_R_db_sans_etat)\n",
    "        prob = gm.predict_proba(df_R_db_sans_etat)\n",
    "\n",
    "        #creating the labels for each state\n",
    "        df_copy = data_R_db.copy(deep = True)\n",
    "        sum_proba_state = np.zeros((np.size(liste_state_R),nb_clusters_R))\n",
    "        for i in range(nb_clusters_R):\n",
    "            df_copy[\"cluster\"+str(i)] = np.log(prob[:,i])\n",
    "            for j,state in enumerate(liste_state_R):\n",
    "                sum_proba_state[j,i] = df_copy[df_copy[\"State\"]==state][\"cluster\"+str(i)].sum()\n",
    "        clusters_state = [np.argmax(sum_proba_state[i,:]) for i in range(np.size(liste_state_R))]\n",
    "        clusters_state_dict = {}\n",
    "        for i,state in enumerate(liste_state_R):\n",
    "            clusters_state_dict[state] = clusters_state[i]\n",
    "        labels = [clusters_state_dict[state] for state in data_R_db[\"State\"].to_numpy()]\n",
    "\n",
    "        if np.size(np.unique(labels)) > 1 and not(1 in np.bincount(clusters_state) or 2 in np.bincount(clusters_state)):\n",
    "            #calculating the davies_bouldin_score\n",
    "            db_index = davies_bouldin_score(df_R_db_sans_etat, labels)\n",
    "        else:\n",
    "            db_index = 10\n",
    "            \n",
    "        if(db_index<score):\n",
    "            score = db_index\n",
    "            clusters = labels\n",
    "\n",
    "    score_R_GMM.append(score)\n",
    "    clusters_R_GMM.append(clusters)\n",
    "    print(f\"db index for Rabi with k = {nb_clusters_R} : \", score)"
   ]
  },
  {
   "cell_type": "code",
   "execution_count": 57,
   "metadata": {},
   "outputs": [],
   "source": [
    "data_copy = df_R.copy(deep = True)\n",
    "data_copy[\"Cluster\"] = clusters_R_GMM[0]"
   ]
  },
  {
   "cell_type": "code",
   "execution_count": 58,
   "metadata": {},
   "outputs": [
    {
     "data": {
      "text/plain": [
       "[['Andhra Pradesh', 1],\n",
       " ['Chhattisgarh', 0],\n",
       " ['Gujarat', 1],\n",
       " ['Haryana', 1],\n",
       " ['Karnataka', 1],\n",
       " ['Madhya Pradesh', 0],\n",
       " ['Maharashtra', 1],\n",
       " ['Odisha', 1],\n",
       " ['Rajasthan', 1],\n",
       " ['Tamil Nadu', 1],\n",
       " ['Telangana', 1],\n",
       " ['Uttar Pradesh', 1],\n",
       " ['West Bengal', 1]]"
      ]
     },
     "execution_count": 58,
     "metadata": {},
     "output_type": "execute_result"
    }
   ],
   "source": [
    "l = []\n",
    "for state in liste_state_R:\n",
    "    cluster = int(data_copy[data_copy[\"State\"] == state][\"Cluster\"].mean())\n",
    "    l.append([state,cluster])\n",
    "l"
   ]
  },
  {
   "cell_type": "code",
   "execution_count": 59,
   "metadata": {},
   "outputs": [],
   "source": [
    "l = [['Andhra Pradesh', 0],\n",
    " ['Chhattisgarh', 1],\n",
    " ['Gujarat', 0],\n",
    " ['Haryana', 0],\n",
    " ['Karnataka', 1],\n",
    " ['Madhya Pradesh', 1],\n",
    " ['Maharashtra', 0],\n",
    " ['Odisha', 0],\n",
    " ['Rajasthan', 0],\n",
    " ['Tamil Nadu', 0],\n",
    " ['Telangana', 0],\n",
    " ['Uttar Pradesh', 0],\n",
    " ['West Bengal', 0]]"
   ]
  },
  {
   "cell_type": "code",
   "execution_count": 60,
   "metadata": {},
   "outputs": [
    {
     "data": {
      "text/plain": [
       "4.341590024430636"
      ]
     },
     "execution_count": 60,
     "metadata": {},
     "output_type": "execute_result"
    }
   ],
   "source": [
    "clusters_state_dict = {l[i][0]:l[i][1] for i in range(len(l))}\n",
    "labels = [clusters_state_dict[state] for state in data_R_db[\"State\"].to_numpy()]\n",
    "davies_bouldin_score(df_R_db_sans_etat, labels)"
   ]
  },
  {
   "cell_type": "code",
   "execution_count": 37,
   "metadata": {},
   "outputs": [
    {
     "name": "stdout",
     "output_type": "stream",
     "text": [
      "db index for Kharif with k = 2 :  10\n",
      "db index for Kharif with k = 3 :  3.4217989011183283\n",
      "db index for Kharif with k = 4 :  3.4217989011183283\n",
      "db index for Kharif with k = 5 :  3.4217989011183283\n",
      "db index for Kharif with k = 6 :  3.4217989011183283\n",
      "db index for Kharif with k = 7 :  10\n",
      "db index for Kharif with k = 8 :  10\n",
      "db index for Kharif with k = 9 :  10\n"
     ]
    }
   ],
   "source": [
    "n_cluster_max = 10\n",
    "score_K_GMM = []\n",
    "clusters_K_GMM = []\n",
    "n_init = 10\n",
    "\n",
    "for k in range(2,n_cluster_max) : \n",
    "    nb_clusters_K = k\n",
    "    clusters = []\n",
    "    score = 11\n",
    "    for j in range(n_init):\n",
    "        #Clustering with nb_clusters_K clusters\n",
    "        gm = GaussianMixture(n_components=nb_clusters_K,covariance_type = 'tied')\n",
    "        gm.fit(df_K_db_sans_etat)\n",
    "        prob = gm.predict_proba(df_K_db_sans_etat)\n",
    "\n",
    "        #creating the labels for each state\n",
    "        df_copy = data_K_db.copy(deep = True)\n",
    "        sum_proba_state = np.zeros((np.size(liste_state_K),nb_clusters_K))\n",
    "        for i in range(nb_clusters_K):\n",
    "            df_copy[\"cluster\"+str(i)] = np.log(prob[:,i])\n",
    "            for j,state in enumerate(liste_state_K):\n",
    "                sum_proba_state[j,i] = df_copy[df_copy[\"State\"]==state][\"cluster\"+str(i)].sum()\n",
    "        clusters_state = [np.argmax(sum_proba_state[i,:]) for i in range(np.size(liste_state_K))]\n",
    "        clusters_state_dict = {}\n",
    "        for i,state in enumerate(liste_state_K):\n",
    "            clusters_state_dict[state] = clusters_state[i]\n",
    "        labels = [clusters_state_dict[state] for state in data_K_db[\"State\"].to_numpy()]\n",
    "\n",
    "        if np.size(np.unique(labels)) > 1 and not(np.size(np.unique(labels))==2 and 1 in np.bincount(clusters_state)):\n",
    "            #calculating the davies_bouldin_score\n",
    "            db_index = davies_bouldin_score(df_K_db_sans_etat, labels)\n",
    "        else:\n",
    "            db_index = 10\n",
    "        if(db_index<score):\n",
    "            score = db_index\n",
    "            clusters = labels\n",
    "\n",
    "    score_K_GMM.append(score)\n",
    "    clusters_K_GMM.append(clusters)\n",
    "    print(f\"db index for Kharif with k = {nb_clusters_K} : \", score)"
   ]
  },
  {
   "cell_type": "code",
   "execution_count": 53,
   "metadata": {},
   "outputs": [],
   "source": [
    "data_copy = df_K.copy(deep = True)\n",
    "data_copy[\"Cluster\"] = clusters_K_GMM[1]"
   ]
  },
  {
   "cell_type": "code",
   "execution_count": 55,
   "metadata": {},
   "outputs": [
    {
     "data": {
      "text/plain": [
       "[['Andhra Pradesh', 1],\n",
       " ['Chhattisgarh', 1],\n",
       " ['Gujarat', 1],\n",
       " ['Haryana', 1],\n",
       " ['Jharkhand', 0],\n",
       " ['Karnataka', 1],\n",
       " ['Madhya Pradesh', 0],\n",
       " ['Maharashtra', 1],\n",
       " ['Odisha', 1],\n",
       " ['Rajasthan', 1],\n",
       " ['Telangana', 1],\n",
       " ['Uttar Pradesh', 1],\n",
       " ['Uttarakhand', 1],\n",
       " ['West Bengal', 1]]"
      ]
     },
     "execution_count": 55,
     "metadata": {},
     "output_type": "execute_result"
    }
   ],
   "source": [
    "l = []\n",
    "for state in liste_state_K:\n",
    "    cluster = int(data_copy[data_copy[\"State\"] == state][\"Cluster\"].mean())\n",
    "    l.append([state,cluster])\n",
    "l"
   ]
  },
  {
   "cell_type": "markdown",
   "metadata": {},
   "source": [
    "## K-Prototypes avec Crop et State"
   ]
  },
  {
   "cell_type": "code",
   "execution_count": 6,
   "metadata": {},
   "outputs": [],
   "source": [
    "from kmodes.kprototypes import KPrototypes"
   ]
  },
  {
   "cell_type": "code",
   "execution_count": 7,
   "metadata": {},
   "outputs": [
    {
     "data": {
      "text/html": [
       "<div>\n",
       "<style scoped>\n",
       "    .dataframe tbody tr th:only-of-type {\n",
       "        vertical-align: middle;\n",
       "    }\n",
       "\n",
       "    .dataframe tbody tr th {\n",
       "        vertical-align: top;\n",
       "    }\n",
       "\n",
       "    .dataframe thead th {\n",
       "        text-align: right;\n",
       "    }\n",
       "</style>\n",
       "<table border=\"1\" class=\"dataframe\">\n",
       "  <thead>\n",
       "    <tr style=\"text-align: right;\">\n",
       "      <th></th>\n",
       "      <th>Lp_2011</th>\n",
       "      <th>Lp_2012</th>\n",
       "      <th>Lp_2013</th>\n",
       "      <th>Lp_2014</th>\n",
       "      <th>Lp_2015</th>\n",
       "      <th>Lp_2016</th>\n",
       "      <th>Lp_2017</th>\n",
       "      <th>State</th>\n",
       "      <th>Crop</th>\n",
       "    </tr>\n",
       "    <tr>\n",
       "      <th>key</th>\n",
       "      <th></th>\n",
       "      <th></th>\n",
       "      <th></th>\n",
       "      <th></th>\n",
       "      <th></th>\n",
       "      <th></th>\n",
       "      <th></th>\n",
       "      <th></th>\n",
       "      <th></th>\n",
       "    </tr>\n",
       "  </thead>\n",
       "  <tbody>\n",
       "    <tr>\n",
       "      <th>andhra pradesh_anantapur_vidapanakal___</th>\n",
       "      <td>0.014822</td>\n",
       "      <td>0.0</td>\n",
       "      <td>0.0</td>\n",
       "      <td>0.000000</td>\n",
       "      <td>0.882341</td>\n",
       "      <td>0.645266</td>\n",
       "      <td>0.000000</td>\n",
       "      <td>Andhra Pradesh</td>\n",
       "      <td>Bengal Gram (Chana)</td>\n",
       "    </tr>\n",
       "    <tr>\n",
       "      <th>andhra pradesh_anantapur_vajrakarur___</th>\n",
       "      <td>0.000000</td>\n",
       "      <td>0.0</td>\n",
       "      <td>0.0</td>\n",
       "      <td>0.000000</td>\n",
       "      <td>0.217446</td>\n",
       "      <td>0.000000</td>\n",
       "      <td>0.347871</td>\n",
       "      <td>Andhra Pradesh</td>\n",
       "      <td>Bengal Gram (Chana)</td>\n",
       "    </tr>\n",
       "    <tr>\n",
       "      <th>andhra pradesh_anantapur_gooty___</th>\n",
       "      <td>0.330642</td>\n",
       "      <td>0.0</td>\n",
       "      <td>0.0</td>\n",
       "      <td>0.086273</td>\n",
       "      <td>0.000000</td>\n",
       "      <td>0.496653</td>\n",
       "      <td>0.122131</td>\n",
       "      <td>Andhra Pradesh</td>\n",
       "      <td>Bengal Gram (Chana)</td>\n",
       "    </tr>\n",
       "    <tr>\n",
       "      <th>andhra pradesh_anantapur_guntakal___</th>\n",
       "      <td>0.330642</td>\n",
       "      <td>0.0</td>\n",
       "      <td>0.0</td>\n",
       "      <td>0.086273</td>\n",
       "      <td>0.000000</td>\n",
       "      <td>0.496653</td>\n",
       "      <td>0.122131</td>\n",
       "      <td>Andhra Pradesh</td>\n",
       "      <td>Bengal Gram (Chana)</td>\n",
       "    </tr>\n",
       "    <tr>\n",
       "      <th>andhra pradesh_anantapur_pamidi___</th>\n",
       "      <td>0.330642</td>\n",
       "      <td>0.0</td>\n",
       "      <td>0.0</td>\n",
       "      <td>0.086273</td>\n",
       "      <td>0.000000</td>\n",
       "      <td>0.496653</td>\n",
       "      <td>0.122131</td>\n",
       "      <td>Andhra Pradesh</td>\n",
       "      <td>Bengal Gram (Chana)</td>\n",
       "    </tr>\n",
       "  </tbody>\n",
       "</table>\n",
       "</div>"
      ],
      "text/plain": [
       "                                          Lp_2011  Lp_2012  Lp_2013   Lp_2014  \\\n",
       "key                                                                             \n",
       "andhra pradesh_anantapur_vidapanakal___  0.014822      0.0      0.0  0.000000   \n",
       "andhra pradesh_anantapur_vajrakarur___   0.000000      0.0      0.0  0.000000   \n",
       "andhra pradesh_anantapur_gooty___        0.330642      0.0      0.0  0.086273   \n",
       "andhra pradesh_anantapur_guntakal___     0.330642      0.0      0.0  0.086273   \n",
       "andhra pradesh_anantapur_pamidi___       0.330642      0.0      0.0  0.086273   \n",
       "\n",
       "                                          Lp_2015   Lp_2016   Lp_2017  \\\n",
       "key                                                                     \n",
       "andhra pradesh_anantapur_vidapanakal___  0.882341  0.645266  0.000000   \n",
       "andhra pradesh_anantapur_vajrakarur___   0.217446  0.000000  0.347871   \n",
       "andhra pradesh_anantapur_gooty___        0.000000  0.496653  0.122131   \n",
       "andhra pradesh_anantapur_guntakal___     0.000000  0.496653  0.122131   \n",
       "andhra pradesh_anantapur_pamidi___       0.000000  0.496653  0.122131   \n",
       "\n",
       "                                                  State                 Crop  \n",
       "key                                                                           \n",
       "andhra pradesh_anantapur_vidapanakal___  Andhra Pradesh  Bengal Gram (Chana)  \n",
       "andhra pradesh_anantapur_vajrakarur___   Andhra Pradesh  Bengal Gram (Chana)  \n",
       "andhra pradesh_anantapur_gooty___        Andhra Pradesh  Bengal Gram (Chana)  \n",
       "andhra pradesh_anantapur_guntakal___     Andhra Pradesh  Bengal Gram (Chana)  \n",
       "andhra pradesh_anantapur_pamidi___       Andhra Pradesh  Bengal Gram (Chana)  "
      ]
     },
     "execution_count": 7,
     "metadata": {},
     "output_type": "execute_result"
    }
   ],
   "source": [
    "#data for clustering \n",
    "collumns = [f'Lp_{i}' for i in range(2011,2018)] # colonnes : que les lp\n",
    "collumns.append(\"State\")\n",
    "collumns.append(\"Crop\")\n",
    "data_R=regroupe_crop(df_R[collumns])\n",
    "data_K=regroupe_crop(df_K[collumns])\n",
    "data_R.head()"
   ]
  },
  {
   "cell_type": "code",
   "execution_count": 13,
   "metadata": {},
   "outputs": [],
   "source": [
    "pen_state = 10**10\n",
    "pen_crop  = 10**3 \n",
    "def categorical_dissimilarity(a, b, **_):\n",
    "    \"\"\"Dissimilarity function with state penalization\"\"\"\n",
    "    return (a[:,0] != b[0])*pen_state + (a[:,1] != b[1])*pen_crop\n",
    "\n",
    "categorical_columns = [7,8]"
   ]
  },
  {
   "cell_type": "markdown",
   "metadata": {},
   "source": [
    " Rabi"
   ]
  },
  {
   "cell_type": "code",
   "execution_count": 14,
   "metadata": {},
   "outputs": [],
   "source": [
    "score_R_proto = []\n",
    "clusters_R_proto = []\n",
    "for i in range(2,8) : \n",
    "    nb_clusters_R = i\n",
    "    #Clustering with nb_clusters_R clusters\n",
    "    kproto = KPrototypes(n_clusters=nb_clusters_R, init='Cao', n_jobs=-1, cat_dissim=categorical_dissimilarity, n_init=1, random_state=1)\n",
    "    clusters = kproto.fit_predict(data_R, categorical=categorical_columns)\n",
    "\n",
    "    #creating the labels for each state\n",
    "    new_df = data_R_db.copy(deep=True)\n",
    "    new_df['Label'] = clusters\n",
    "    new_df['State_Label'] = new_df.groupby(new_df['State'])['Label'].transform(lambda x: x.value_counts().idxmax())\n",
    "    #dic_cluster = get_liste_state_cluster_2(clusters,df_R)\n",
    "    #labels = [dic_cluster[x] for x in df_R[\"State\"].to_numpy()]\n",
    "\n",
    "    labels = new_df[\"State_Label\"].to_numpy()\n",
    "    clusters_R_proto.append(labels)\n",
    "    if np.size(np.unique(labels)) > 1:\n",
    "        #calculating the davies_bouldin_score\n",
    "        db_index = davies_bouldin_score(data_R_db.drop(columns=[\"State\"]), labels)\n",
    "        score_R_proto.append(db_index)\n",
    "    else:\n",
    "        db_index = 10\n",
    "        score_R_proto.append(db_index)\n",
    "    print(f\"db index for Rabi with k = {nb_clusters_R} : \", db_index)"
   ]
  },
  {
   "cell_type": "markdown",
   "metadata": {},
   "source": [
    "Kharif"
   ]
  },
  {
   "cell_type": "code",
   "execution_count": 11,
   "metadata": {},
   "outputs": [
    {
     "name": "stdout",
     "output_type": "stream",
     "text": [
      "db index for Kabi with k = 2 :  10\n"
     ]
    }
   ],
   "source": [
    "score_K_proto = []\n",
    "clusters_K_proto = []\n",
    "for i in range(2,8) : \n",
    "    nb_clusters_K = i\n",
    "    #Clustering with nb_clusters_K clusters\n",
    "    kproto = KPrototypes(n_clusters=nb_clusters_K, init='Cao', n_jobs=-1, cat_dissim=categorical_dissimilarity, n_init=1, random_state=1)\n",
    "    clusters = kproto.fit_predict(data_K, categorical=categorical_columns)\n",
    "\n",
    "    #creating the labels for each state\n",
    "    new_df = data_K_db.copy(deep=True)\n",
    "    new_df['Label'] = clusters\n",
    "    new_df['State_Label'] = new_df.groupby(new_df['State'])['Label'].transform(lambda x: x.value_counts().idxmax())\n",
    "    #dic_cluster = get_liste_state_cluster_2(clusters,df_R)\n",
    "    #labels = [dic_cluster[x] for x in df_R[\"State\"].to_numpy()]\n",
    "\n",
    "    labels = new_df[\"State_Label\"].to_numpy()\n",
    "    clusters_K_proto.append(labels)\n",
    "    if np.size(np.unique(labels)) > 1:\n",
    "        #calculating the davies_bouldin_score\n",
    "        db_index = davies_bouldin_score(data_K_db.drop(columns=[\"State\"]), labels)\n",
    "        score_K_proto.append(db_index)\n",
    "    else:\n",
    "        db_index = 10\n",
    "        score_K_proto.append(db_index)\n",
    "    print(f\"db index for Kabi with k = {nb_clusters_K} : \", db_index)"
   ]
  },
  {
   "cell_type": "code",
   "execution_count": null,
   "metadata": {},
   "outputs": [],
   "source": []
  }
 ],
 "metadata": {
  "interpreter": {
   "hash": "0305797186e5b23b2dbde5736499e01b32f3bcfd44ad4b479fc191776976783f"
  },
  "kernelspec": {
   "display_name": "Python 3.7.6 ('base')",
   "language": "python",
   "name": "python3"
  },
  "language_info": {
   "codemirror_mode": {
    "name": "ipython",
    "version": 3
   },
   "file_extension": ".py",
   "mimetype": "text/x-python",
   "name": "python",
   "nbconvert_exporter": "python",
   "pygments_lexer": "ipython3",
   "version": "3.7.6"
  },
  "orig_nbformat": 4
 },
 "nbformat": 4,
 "nbformat_minor": 2
}
