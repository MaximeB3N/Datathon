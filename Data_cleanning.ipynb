{
 "cells": [
  {
   "cell_type": "code",
   "execution_count": 1,
   "metadata": {},
   "outputs": [],
   "source": [
    "import pandas as pd\n",
    "import matplotlib.pyplot as plt\n",
    "import numpy as np\n",
    "import seaborn as sn "
   ]
  },
  {
   "cell_type": "code",
   "execution_count": null,
   "metadata": {},
   "outputs": [],
   "source": [
    "pathData = \"RawData/2017/2017_Andhra Pradesh_Kharif.xlsx\"\n",
    "df=pd.read_excel(pathData)"
   ]
  },
  {
   "cell_type": "code",
   "execution_count": null,
   "metadata": {},
   "outputs": [],
   "source": [
    "#Définition de la fonction add_Loss \n",
    "def add_Loss(df,year):\n",
    "    \"\"\"return a new_df with a new collumn Loss\"\"\"\n",
    "    Y=np.array([df[f'{YEAR} Yield'] for YEAR in np.arange(year-6,year+1)])\n",
    "    theta=np.array(df[\"Indemnity Level\"])\n",
    "    index=np.argpartition(Y,2,axis=0)\n",
    "    Y=Y[index[2:]]\n",
    "    Y=Y[:,:,0]\n",
    "    threshold=np.mean(Y, axis=0)*theta\n",
    "    S=np.array(df[\"Sum Insured (Inr)\"])\n",
    "    L=np.sum(S*np.maximum(np.zeros(Y.shape),threshold-Y)/threshold,axis=0)\n",
    "    new_df=df\n",
    "    new_df[\"Loss\"]=L\n",
    "    return new_df"
   ]
  }
 ],
 "metadata": {
  "interpreter": {
   "hash": "f94b0f923d809dd527c206b27763890920f0cc4925d65b37d9350672bbce7ed6"
  },
  "kernelspec": {
   "display_name": "Python 3.8.12 64-bit ('base': conda)",
   "language": "python",
   "name": "python3"
  },
  "language_info": {
   "codemirror_mode": {
    "name": "ipython",
    "version": 3
   },
   "file_extension": ".py",
   "mimetype": "text/x-python",
   "name": "python",
   "nbconvert_exporter": "python",
   "pygments_lexer": "ipython3",
   "version": "3.8.12"
  },
  "orig_nbformat": 4
 },
 "nbformat": 4,
 "nbformat_minor": 2
}
