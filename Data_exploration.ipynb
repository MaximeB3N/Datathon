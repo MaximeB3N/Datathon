{
 "cells": [
  {
   "cell_type": "code",
   "execution_count": 2,
   "metadata": {},
   "outputs": [],
   "source": [
    "import pandas as pd"
   ]
  },
  {
   "cell_type": "code",
   "execution_count": 17,
   "metadata": {},
   "outputs": [],
   "source": [
    "pathData = \"RawData/2017/2017_Andhra Pradesh_Kharif.xlsx\""
   ]
  },
  {
   "cell_type": "code",
   "execution_count": 19,
   "metadata": {},
   "outputs": [],
   "source": [
    "df = pd.read_excel(pathData)"
   ]
  },
  {
   "cell_type": "code",
   "execution_count": 23,
   "metadata": {},
   "outputs": [
    {
     "data": {
      "text/plain": [
       "Index(['State', 'Cluster', 'District', 'Sub-District', 'Block', 'GP', 'Season',\n",
       "       'Crop', 'Area Sown (Ha)', 'Area Insured (Ha)', 'SI Per Ha (Inr/Ha)',\n",
       "       'Sum Insured (Inr)', 'Indemnity Level', '2000 Yield', '2001 Yield',\n",
       "       '2002 Yield', '2003 Yield', '2004 Yield', '2005 Yield', '2006 Yield',\n",
       "       '2007 Yield', '2008 Yield', '2009 Yield', '2010 Yield', '2011 Yield',\n",
       "       '2012 Yield', '2013 Yield', '2014 Yield', '2015 Yield', '2016 Yield',\n",
       "       '2017 Yield', '2018 Yield'],\n",
       "      dtype='object')"
      ]
     },
     "execution_count": 23,
     "metadata": {},
     "output_type": "execute_result"
    }
   ],
   "source": [
    "df.columns"
   ]
  },
  {
   "cell_type": "code",
   "execution_count": 43,
   "metadata": {},
   "outputs": [
    {
     "data": {
      "text/plain": [
       "0        0.8\n",
       "1        0.8\n",
       "2        0.8\n",
       "3        0.8\n",
       "4        0.8\n",
       "        ... \n",
       "18730    0.8\n",
       "18731    0.8\n",
       "18732    0.8\n",
       "18733    0.8\n",
       "18734    0.8\n",
       "Name: Indemnity Level, Length: 18735, dtype: float64"
      ]
     },
     "execution_count": 43,
     "metadata": {},
     "output_type": "execute_result"
    }
   ],
   "source": [
    "df[\"Indemnity Level\"]"
   ]
  },
  {
   "cell_type": "code",
   "execution_count": 25,
   "metadata": {},
   "outputs": [
    {
     "name": "stdout",
     "output_type": "stream",
     "text": [
      "<class 'pandas.core.frame.DataFrame'>\n",
      "RangeIndex: 18735 entries, 0 to 18734\n",
      "Data columns (total 32 columns):\n",
      " #   Column              Non-Null Count  Dtype  \n",
      "---  ------              --------------  -----  \n",
      " 0   State               18735 non-null  object \n",
      " 1   Cluster             18735 non-null  int64  \n",
      " 2   District            18735 non-null  object \n",
      " 3   Sub-District        18735 non-null  object \n",
      " 4   Block               0 non-null      float64\n",
      " 5   GP                  17617 non-null  object \n",
      " 6   Season              18735 non-null  object \n",
      " 7   Crop                18735 non-null  object \n",
      " 8   Area Sown (Ha)      18735 non-null  float64\n",
      " 9   Area Insured (Ha)   18735 non-null  float64\n",
      " 10  SI Per Ha (Inr/Ha)  18735 non-null  int64  \n",
      " 11  Sum Insured (Inr)   18735 non-null  float64\n",
      " 12  Indemnity Level     18735 non-null  float64\n",
      " 13  2000 Yield          0 non-null      float64\n",
      " 14  2001 Yield          0 non-null      float64\n",
      " 15  2002 Yield          0 non-null      float64\n",
      " 16  2003 Yield          0 non-null      float64\n",
      " 17  2004 Yield          0 non-null      float64\n",
      " 18  2005 Yield          0 non-null      float64\n",
      " 19  2006 Yield          16829 non-null  float64\n",
      " 20  2007 Yield          17777 non-null  float64\n",
      " 21  2008 Yield          18602 non-null  float64\n",
      " 22  2009 Yield          18645 non-null  float64\n",
      " 23  2010 Yield          18668 non-null  float64\n",
      " 24  2011 Yield          18735 non-null  float64\n",
      " 25  2012 Yield          18735 non-null  float64\n",
      " 26  2013 Yield          18735 non-null  float64\n",
      " 27  2014 Yield          18735 non-null  float64\n",
      " 28  2015 Yield          18715 non-null  float64\n",
      " 29  2016 Yield          8953 non-null   float64\n",
      " 30  2017 Yield          0 non-null      float64\n",
      " 31  2018 Yield          0 non-null      float64\n",
      "dtypes: float64(24), int64(2), object(6)\n",
      "memory usage: 4.6+ MB\n"
     ]
    }
   ],
   "source": [
    "df.info()"
   ]
  },
  {
   "cell_type": "code",
   "execution_count": 35,
   "metadata": {},
   "outputs": [
    {
     "data": {
      "text/plain": [
       "(0.0, 129974.0)"
      ]
     },
     "execution_count": 35,
     "metadata": {},
     "output_type": "execute_result"
    }
   ],
   "source": [
    "df[\"2010 Yield\"].min(),df[\"2010 Yield\"].max()"
   ]
  },
  {
   "cell_type": "code",
   "execution_count": 39,
   "metadata": {},
   "outputs": [
    {
     "data": {
      "text/plain": [
       "0.0"
      ]
     },
     "execution_count": 39,
     "metadata": {},
     "output_type": "execute_result"
    }
   ],
   "source": [
    "df[\"2016 Yield\"].min()"
   ]
  },
  {
   "cell_type": "code",
   "execution_count": null,
   "metadata": {},
   "outputs": [],
   "source": []
  }
 ],
 "metadata": {
  "kernelspec": {
   "display_name": "Python 3",
   "language": "python",
   "name": "python3"
  },
  "language_info": {
   "codemirror_mode": {
    "name": "ipython",
    "version": 3
   },
   "file_extension": ".py",
   "mimetype": "text/x-python",
   "name": "python",
   "nbconvert_exporter": "python",
   "pygments_lexer": "ipython3",
   "version": "3.7.6"
  }
 },
 "nbformat": 4,
 "nbformat_minor": 4
}
