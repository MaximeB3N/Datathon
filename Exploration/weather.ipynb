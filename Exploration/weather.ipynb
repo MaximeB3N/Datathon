{
 "cells": [
  {
   "cell_type": "code",
   "execution_count": 5,
   "metadata": {},
   "outputs": [],
   "source": [
    "import os\n",
    "import pandas as pd\n",
    "import json\n",
    "\n",
    "os.chdir(\"/Users/maximebonnin/Documents/Projects/SCOR/Datathon\")\n",
    "\n",
    "\n",
    "pathWeatherKharif = \"Outputs/Predictions/climate_clusters_kharif.csv\"\n",
    "pathWeatherRabi = \"Outputs/Predictions/climate_clusters_rabi.csv\"\n",
    "pathCropKharif = \"Outputs/Predictions/Crop_Kharif.csv\"\n",
    "pathCropRabi = \"Outputs/Predictions/Crop_Rabi.csv\""
   ]
  },
  {
   "cell_type": "code",
   "execution_count": 6,
   "metadata": {},
   "outputs": [],
   "source": [
    "weatherKharif = pd.read_csv(pathWeatherKharif)\n",
    "weatherRabi = pd.read_csv(pathWeatherRabi)\n",
    "cropKharif = pd.read_csv(pathCropKharif)\n",
    "cropRabi = pd.read_csv(pathCropRabi)\n"
   ]
  },
  {
   "cell_type": "code",
   "execution_count": 7,
   "metadata": {},
   "outputs": [],
   "source": [
    "def dataframe_to_dict_cluster(df, input_col, output_col, fn):\n",
    "    results = {}\n",
    "    for state in df[input_col].unique():\n",
    "        results[state] = fn(df[output_col][df[input_col]==state].values[0])\n",
    "\n",
    "    return results\n",
    "\n",
    "dict_weatherKharif = dataframe_to_dict_cluster(weatherKharif, \"state\", \"cluster\", fn=int)\n",
    "dict_weatherRabi = dataframe_to_dict_cluster(weatherRabi, \"state\", \"cluster\", fn=int)\n",
    "\n",
    "dict_cropKharif = dataframe_to_dict_cluster(cropKharif, \"Crop\", \"Group\", fn=str)\n",
    "dict_cropRabi = dataframe_to_dict_cluster(cropRabi, \"Crop\", \"Group\", fn=str)\n",
    "\n",
    "# save the dictionary as a json file\n",
    "with open('Outputs/Predictions/climate_clusters_kharif.json', 'w') as fp:\n",
    "    json.dump(dict_weatherKharif, fp)\n",
    "\n",
    "with open('Outputs/Predictions/climate_clusters_rabi.json', 'w') as fp:\n",
    "    json.dump(dict_weatherRabi, fp)\n",
    "\n",
    "with open('Outputs/Predictions/Crop_Kharif.json', 'w') as fp:\n",
    "    json.dump(dict_cropKharif, fp)\n",
    "\n",
    "with open('Outputs/Predictions/Crop_Rabi.json', 'w') as fp:\n",
    "    json.dump(dict_cropRabi, fp)\n",
    "\n"
   ]
  },
  {
   "cell_type": "code",
   "execution_count": null,
   "metadata": {},
   "outputs": [],
   "source": []
  }
 ],
 "metadata": {
  "interpreter": {
   "hash": "b0fa6594d8f4cbf19f97940f81e996739fb7646882a419484c72d19e05852a7e"
  },
  "kernelspec": {
   "display_name": "Python 3.9.9 64-bit",
   "language": "python",
   "name": "python3"
  },
  "language_info": {
   "codemirror_mode": {
    "name": "ipython",
    "version": 3
   },
   "file_extension": ".py",
   "mimetype": "text/x-python",
   "name": "python",
   "nbconvert_exporter": "python",
   "pygments_lexer": "ipython3",
   "version": "3.9.9"
  },
  "orig_nbformat": 4
 },
 "nbformat": 4,
 "nbformat_minor": 2
}
