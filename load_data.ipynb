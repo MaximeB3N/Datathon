{
 "cells": [
  {
   "cell_type": "code",
   "execution_count": 2,
   "metadata": {},
   "outputs": [],
   "source": [
    "from os import listdir\n",
    "from os.path import isfile, join\n",
    "import pandas as pd\n",
    "import matplotlib.pyplot as plt\n",
    "import numpy as np\n",
    "import seaborn as sn\n",
    "from utils import add_Loss, clean_data\n",
    "from tqdm.notebook import tqdm, trange"
   ]
  },
  {
   "cell_type": "code",
   "execution_count": 13,
   "metadata": {},
   "outputs": [],
   "source": [
    "def unify_data(YEAR = 2019, SEASON = 'Kharif') :\n",
    "    liste_dataframe = []\n",
    "    monRepertoire = \"RawData/\"+str(YEAR)\n",
    "    for f in tqdm(listdir(monRepertoire)) :\n",
    "        if isfile(join(monRepertoire, f)) and (f[-11:-5] == SEASON or f[-9:-5] == SEASON):\n",
    "            pathData = \"RawData/\"+str(YEAR)+\"/\"+f\n",
    "            liste_dataframe.append(pd.read_excel(pathData))\n",
    "    df = pd.concat(liste_dataframe)\n",
    "    df.to_csv(f'RawDataUnified/RawData_{YEAR}_{SEASON}')"
   ]
  },
  {
   "cell_type": "code",
   "execution_count": 14,
   "metadata": {},
   "outputs": [
    {
     "data": {
      "application/vnd.jupyter.widget-view+json": {
       "model_id": "5e0755c99c034534af8421ba9ccdb3a7",
       "version_major": 2,
       "version_minor": 0
      },
      "text/plain": [
       "  0%|          | 0/3 [00:00<?, ?it/s]"
      ]
     },
     "metadata": {},
     "output_type": "display_data"
    },
    {
     "data": {
      "application/vnd.jupyter.widget-view+json": {
       "model_id": "467eabc27c3b45ea9a9d2eabb4f55507",
       "version_major": 2,
       "version_minor": 0
      },
      "text/plain": [
       "  0%|          | 0/26 [00:00<?, ?it/s]"
      ]
     },
     "metadata": {},
     "output_type": "display_data"
    },
    {
     "data": {
      "application/vnd.jupyter.widget-view+json": {
       "model_id": "87b00ce1e96d456fba147811dd7526a1",
       "version_major": 2,
       "version_minor": 0
      },
      "text/plain": [
       "  0%|          | 0/26 [00:00<?, ?it/s]"
      ]
     },
     "metadata": {},
     "output_type": "display_data"
    },
    {
     "data": {
      "application/vnd.jupyter.widget-view+json": {
       "model_id": "c5869f382a5a43379c1f20922014ad50",
       "version_major": 2,
       "version_minor": 0
      },
      "text/plain": [
       "  0%|          | 0/27 [00:00<?, ?it/s]"
      ]
     },
     "metadata": {},
     "output_type": "display_data"
    },
    {
     "data": {
      "application/vnd.jupyter.widget-view+json": {
       "model_id": "e5113c84a5a54089882646410bcf3eb4",
       "version_major": 2,
       "version_minor": 0
      },
      "text/plain": [
       "  0%|          | 0/27 [00:00<?, ?it/s]"
      ]
     },
     "metadata": {},
     "output_type": "display_data"
    },
    {
     "data": {
      "application/vnd.jupyter.widget-view+json": {
       "model_id": "0e7f1cde4ccc4a44992732fc0030113a",
       "version_major": 2,
       "version_minor": 0
      },
      "text/plain": [
       "  0%|          | 0/27 [00:00<?, ?it/s]"
      ]
     },
     "metadata": {},
     "output_type": "display_data"
    },
    {
     "data": {
      "application/vnd.jupyter.widget-view+json": {
       "model_id": "1e2c81b68da64ad897152b6956c91ce6",
       "version_major": 2,
       "version_minor": 0
      },
      "text/plain": [
       "  0%|          | 0/27 [00:00<?, ?it/s]"
      ]
     },
     "metadata": {},
     "output_type": "display_data"
    }
   ],
   "source": [
    "for YEAR in tqdm([2017,2018,2019]):\n",
    "    for SEASON in ['Kharif', 'Rabi']:\n",
    "        unify_data(YEAR,SEASON)"
   ]
  },
  {
   "cell_type": "code",
   "execution_count": 10,
   "metadata": {},
   "outputs": [
    {
     "data": {
      "text/plain": [
       "array([nan])"
      ]
     },
     "execution_count": 10,
     "metadata": {},
     "output_type": "execute_result"
    }
   ],
   "source": [
    "df.save()"
   ]
  },
  {
   "cell_type": "code",
   "execution_count": 43,
   "metadata": {},
   "outputs": [
    {
     "name": "stdout",
     "output_type": "stream",
     "text": [
      "<class 'pandas.core.frame.DataFrame'>\n",
      "Int64Index: 372909 entries, 0 to 3745\n",
      "Data columns (total 25 columns):\n",
      " #   Column              Non-Null Count   Dtype  \n",
      "---  ------              --------------   -----  \n",
      " 0   Cluster             372909 non-null  int64  \n",
      " 1   District            372909 non-null  object \n",
      " 2   Crop                372909 non-null  object \n",
      " 3   Area Sown (Ha)      372909 non-null  float64\n",
      " 4   Area Insured (Ha)   372909 non-null  float64\n",
      " 5   SI Per Ha (Inr/Ha)  372909 non-null  float64\n",
      " 6   Indemnity Level     372909 non-null  float64\n",
      " 7   2000 Yield          372909 non-null  float64\n",
      " 8   2001 Yield          372909 non-null  float64\n",
      " 9   2002 Yield          372909 non-null  float64\n",
      " 10  2003 Yield          372909 non-null  float64\n",
      " 11  2004 Yield          372909 non-null  float64\n",
      " 12  2005 Yield          372909 non-null  float64\n",
      " 13  2006 Yield          372909 non-null  float64\n",
      " 14  2007 Yield          372909 non-null  float64\n",
      " 15  2008 Yield          372909 non-null  float64\n",
      " 16  2009 Yield          372909 non-null  float64\n",
      " 17  2010 Yield          372909 non-null  float64\n",
      " 18  2011 Yield          372909 non-null  float64\n",
      " 19  2012 Yield          372909 non-null  float64\n",
      " 20  2013 Yield          372909 non-null  float64\n",
      " 21  2014 Yield          372909 non-null  float64\n",
      " 22  2015 Yield          372909 non-null  float64\n",
      " 23  2016 Yield          372909 non-null  float64\n",
      " 24  2017 Yield          372909 non-null  float64\n",
      "dtypes: float64(22), int64(1), object(2)\n",
      "memory usage: 74.0+ MB\n"
     ]
    }
   ],
   "source": [
    "def clean_data_2(df):\n",
    "    #Suppresion des colonnes sans valeur non nulle\n",
    "    df = df.drop(columns = [\"2018 Yield\"])\n",
    "    #Suppression des colonnes inutiles\n",
    "    df = df.drop(columns = [\"State\",\"Sub-District\",\"GP\",\"Season\",\"Block\",\"Sum Insured (Inr)\"])\n",
    "    #On remplace les rendements nuls par leur moyenne\n",
    "    for year in range(2000,2018):\n",
    "        col = f\"{year} Yield\"\n",
    "        df[col] = df[col].fillna(df[col].mean())\n",
    "    for col in [\"Area Sown (Ha)\",\"Area Insured (Ha)\",\"SI Per Ha (Inr/Ha)\"]:\n",
    "        df[col] = df[col].fillna(df[col].mean())\n",
    "    return df\n",
    "\n",
    "clean_data_2(df).info()"
   ]
  },
  {
   "cell_type": "code",
   "execution_count": null,
   "metadata": {},
   "outputs": [],
   "source": []
  }
 ],
 "metadata": {
  "interpreter": {
   "hash": "0305797186e5b23b2dbde5736499e01b32f3bcfd44ad4b479fc191776976783f"
  },
  "kernelspec": {
   "display_name": "Python 3.7.6 64-bit ('base': conda)",
   "language": "python",
   "name": "python3"
  },
  "language_info": {
   "codemirror_mode": {
    "name": "ipython",
    "version": 3
   },
   "file_extension": ".py",
   "mimetype": "text/x-python",
   "name": "python",
   "nbconvert_exporter": "python",
   "pygments_lexer": "ipython3",
   "version": "3.8.12"
  },
  "orig_nbformat": 4
 },
 "nbformat": 4,
 "nbformat_minor": 2
}
