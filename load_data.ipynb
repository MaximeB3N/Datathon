{
 "cells": [
  {
   "cell_type": "code",
   "execution_count": 41,
   "metadata": {},
   "outputs": [],
   "source": [
    "from os import listdir\n",
    "from os.path import isfile, join\n",
    "import pandas as pd"
   ]
  },
  {
   "cell_type": "code",
   "execution_count": 20,
   "metadata": {},
   "outputs": [
    {
     "name": "stdout",
     "output_type": "stream",
     "text": [
      "               State  Cluster        District Sub-District       Block  \\\n",
      "0     Andhra Pradesh        1       Anantapur        Agali         NaN   \n",
      "1     Andhra Pradesh        1       Anantapur        Agali         NaN   \n",
      "2     Andhra Pradesh        1       Anantapur        Agali         NaN   \n",
      "3     Andhra Pradesh        1       Anantapur        Agali         NaN   \n",
      "4     Andhra Pradesh        1       Anantapur        Agali         NaN   \n",
      "...              ...      ...             ...          ...         ...   \n",
      "3741     West Bengal        2  Uttar Dinajpur          NaN    HEMTABAD   \n",
      "3742     West Bengal        2  Uttar Dinajpur          NaN      ITAHAR   \n",
      "3743     West Bengal        2  Uttar Dinajpur          NaN   KALIAGANJ   \n",
      "3744     West Bengal        2  Uttar Dinajpur          NaN  KARANDIGHI   \n",
      "3745     West Bengal        2  Uttar Dinajpur          NaN     RAIGANJ   \n",
      "\n",
      "                       GP  Season       Crop  Area Sown (Ha)  \\\n",
      "0                   Agali  Kharif      Arhar             NaN   \n",
      "1     Akkagaladevarahalli  Kharif      Arhar             NaN   \n",
      "2     Hulikeradevarahalli  Kharif      Arhar             NaN   \n",
      "3               Inagalore  Kharif      Arhar             NaN   \n",
      "4               Kodihalli  Kharif      Arhar             NaN   \n",
      "...                   ...     ...        ...             ...   \n",
      "3741                  NaN  Kharif  Aus Paddy             NaN   \n",
      "3742                  NaN  Kharif  Aus Paddy             NaN   \n",
      "3743                  NaN  Kharif  Aus Paddy             NaN   \n",
      "3744                  NaN  Kharif  Aus Paddy             NaN   \n",
      "3745                  NaN  Kharif  Aus Paddy             NaN   \n",
      "\n",
      "      Area Insured (Ha)  ...   2009 Yield   2010 Yield   2011 Yield  \\\n",
      "0              0.168514  ...   264.534667   150.820333    87.096222   \n",
      "1              0.168514  ...   264.534667   150.820333    87.096222   \n",
      "2              0.168514  ...   264.534667   150.820333    87.096222   \n",
      "3              0.168514  ...   264.534667   150.820333    87.096222   \n",
      "4              0.168514  ...   264.534667   150.820333    87.096222   \n",
      "...                 ...  ...          ...          ...          ...   \n",
      "3741           1.857143  ...  1479.010000  1814.600000  1748.970000   \n",
      "3742           1.857143  ...  1479.010000  1814.600000  1748.970000   \n",
      "3743           1.857143  ...  1053.080000  1641.160000  1406.630000   \n",
      "3744           1.857143  ...  1479.010000  1814.600000  1748.970000   \n",
      "3745           1.857143  ...  1620.980000  1872.410000  1863.080000   \n",
      "\n",
      "      2012 Yield  2013 Yield  2014 Yield  2015 Yield  2016 Yield  2017 Yield  \\\n",
      "0        108.775       70.00      295.00       89.00        99.0         NaN   \n",
      "1        108.775       58.00      232.00      120.00        99.0         NaN   \n",
      "2        108.775       67.00      295.00       89.00        99.0         NaN   \n",
      "3        108.775       62.00      232.00      120.00        99.0         NaN   \n",
      "4        108.775       70.00      295.00       89.00        99.0         NaN   \n",
      "...          ...         ...         ...         ...         ...         ...   \n",
      "3741    1781.370     1942.86     2086.49     2346.79         NaN         NaN   \n",
      "3742    1781.370     1942.86     2086.49     2346.79         NaN         NaN   \n",
      "3743    1781.370     1942.86     2086.49     2346.79         NaN         NaN   \n",
      "3744    1781.370     1942.86     2086.49     2346.79         NaN         NaN   \n",
      "3745    1781.370     1942.86     2086.49     2346.79         NaN         NaN   \n",
      "\n",
      "      2018 Yield  \n",
      "0            NaN  \n",
      "1            NaN  \n",
      "2            NaN  \n",
      "3            NaN  \n",
      "4            NaN  \n",
      "...          ...  \n",
      "3741         NaN  \n",
      "3742         NaN  \n",
      "3743         NaN  \n",
      "3744         NaN  \n",
      "3745         NaN  \n",
      "\n",
      "[372909 rows x 32 columns]\n"
     ]
    }
   ],
   "source": [
    "YEAR = 2019\n",
    "SEASON = 'Kharif'\n",
    "\n",
    "liste_dataframe = []\n",
    "monRepertoire = \"RawData/\"+str(YEAR)\n",
    "for f in listdir(monRepertoire)  :\n",
    "    if isfile(join(monRepertoire, f)) and (f[-11:-5] == SEASON or f[-9:-5] == SEASON):\n",
    "        pathData = \"RawData/\"+str(YEAR)+\"/\"+f\n",
    "        liste_dataframe.append(pd.read_excel(pathData))\n",
    "\n",
    "df = pd.concat(liste_dataframe)\n",
    "print(df)"
   ]
  },
  {
   "cell_type": "code",
   "execution_count": 43,
   "metadata": {},
   "outputs": [
    {
     "name": "stdout",
     "output_type": "stream",
     "text": [
      "<class 'pandas.core.frame.DataFrame'>\n",
      "Int64Index: 372909 entries, 0 to 3745\n",
      "Data columns (total 25 columns):\n",
      " #   Column              Non-Null Count   Dtype  \n",
      "---  ------              --------------   -----  \n",
      " 0   Cluster             372909 non-null  int64  \n",
      " 1   District            372909 non-null  object \n",
      " 2   Crop                372909 non-null  object \n",
      " 3   Area Sown (Ha)      372909 non-null  float64\n",
      " 4   Area Insured (Ha)   372909 non-null  float64\n",
      " 5   SI Per Ha (Inr/Ha)  372909 non-null  float64\n",
      " 6   Indemnity Level     372909 non-null  float64\n",
      " 7   2000 Yield          372909 non-null  float64\n",
      " 8   2001 Yield          372909 non-null  float64\n",
      " 9   2002 Yield          372909 non-null  float64\n",
      " 10  2003 Yield          372909 non-null  float64\n",
      " 11  2004 Yield          372909 non-null  float64\n",
      " 12  2005 Yield          372909 non-null  float64\n",
      " 13  2006 Yield          372909 non-null  float64\n",
      " 14  2007 Yield          372909 non-null  float64\n",
      " 15  2008 Yield          372909 non-null  float64\n",
      " 16  2009 Yield          372909 non-null  float64\n",
      " 17  2010 Yield          372909 non-null  float64\n",
      " 18  2011 Yield          372909 non-null  float64\n",
      " 19  2012 Yield          372909 non-null  float64\n",
      " 20  2013 Yield          372909 non-null  float64\n",
      " 21  2014 Yield          372909 non-null  float64\n",
      " 22  2015 Yield          372909 non-null  float64\n",
      " 23  2016 Yield          372909 non-null  float64\n",
      " 24  2017 Yield          372909 non-null  float64\n",
      "dtypes: float64(22), int64(1), object(2)\n",
      "memory usage: 74.0+ MB\n"
     ]
    }
   ],
   "source": [
    "def clean_data_2(df):\n",
    "    #Suppresion des colonnes sans valeur non nulle\n",
    "    df = df.drop(columns = [\"2018 Yield\"])\n",
    "    #Suppression des colonnes inutiles\n",
    "    df = df.drop(columns = [\"State\",\"Sub-District\",\"GP\",\"Season\",\"Block\",\"Sum Insured (Inr)\"])\n",
    "    #On remplace les rendements nuls par leur moyenne\n",
    "    for year in range(2000,2018):\n",
    "        col = f\"{year} Yield\"\n",
    "        df[col] = df[col].fillna(df[col].mean())\n",
    "    for col in [\"Area Sown (Ha)\",\"Area Insured (Ha)\",\"SI Per Ha (Inr/Ha)\"]:\n",
    "        df[col] = df[col].fillna(df[col].mean())\n",
    "    return df\n",
    "\n",
    "clean_data_2(df).info()"
   ]
  },
  {
   "cell_type": "code",
   "execution_count": null,
   "metadata": {},
   "outputs": [],
   "source": []
  }
 ],
 "metadata": {
  "interpreter": {
   "hash": "0305797186e5b23b2dbde5736499e01b32f3bcfd44ad4b479fc191776976783f"
  },
  "kernelspec": {
   "display_name": "Python 3.7.6 64-bit ('base': conda)",
   "language": "python",
   "name": "python3"
  },
  "language_info": {
   "codemirror_mode": {
    "name": "ipython",
    "version": 3
   },
   "file_extension": ".py",
   "mimetype": "text/x-python",
   "name": "python",
   "nbconvert_exporter": "python",
   "pygments_lexer": "ipython3",
   "version": "3.7.6"
  },
  "orig_nbformat": 4
 },
 "nbformat": 4,
 "nbformat_minor": 2
}
